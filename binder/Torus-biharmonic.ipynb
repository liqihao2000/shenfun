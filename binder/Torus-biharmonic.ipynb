{
 "cells": [
  {
   "cell_type": "markdown",
   "metadata": {},
   "source": [
    "# The biharmonic equation on the Torus\n",
    "\n",
    "The biharmonic equation is given as\n",
    "\n",
    "$$\n",
    "\\nabla^4 u = f,\n",
    "$$\n",
    "\n",
    "where $u$ is the solution and $f$ is a function. In this notebook we will solve this equation  inside a torus with homogeneous boundary conditions $u(r=1)=u'(r=1)=0$ on the outer surface. We solve the equation with the spectral Galerkin method in curvilinear coordinates. \n",
    "\n",
    "<img src=\"https://cdn.jsdelivr.net/gh/spectralDNS/spectralutilities@master/figures/torus2.png\">\n",
    "\n",
    "The torus is parametrized by    \n",
    "\n",
    "\\begin{align*}\n",
    "x(r, \\theta, \\phi) &= (R + r \\cos \\theta) \\cos \\phi \\\\\n",
    "y(r, \\theta, \\phi) &= (R + r \\cos \\theta) \\sin \\phi \\\\\n",
    "z(r, \\theta, \\phi) &= r \\sin \\theta\n",
    "\\end{align*}\n",
    "\n",
    "where the Cartesian domain is $\\Omega = \\{(x, y, z): \\left(\\sqrt{x^2+y^2} - R^2\\right)^2 + z^2  < 1\\}$ and the computational domain is $(r, \\theta, \\phi) \\in D = [0, 1] \\times [0, 2\\pi] \\times [0, 2\\pi]$. Hence $\\theta$ and $\\phi$ are angles which make a full circle, so that their values start and end at the same point, $R$ is the distance from the center of the tube to the center of the torus,\n",
    "$r$ is the radius of the tube. Note that $\\theta$ is the angle in the small circle (around its center), whereas $\\phi$ is the angle of the large circle, around origo.\n",
    "\n",
    "We start the implementation by importing necessary functionality from shenfun and sympy and then defining the coordinates of the surface of the torus. "
   ]
  },
  {
   "cell_type": "code",
   "execution_count": null,
   "metadata": {},
   "outputs": [],
   "source": [
    "from shenfun import *\n",
    "from shenfun.la import SolverGeneric2ND\n",
    "import sympy as sp\n",
    "from IPython.display import Math\n",
    "\n",
    "N = 24\n",
    "R = 3\n",
    "r, theta, phi = psi = sp.symbols('x,y,z', real=True, positive=True)\n",
    "rv = ((R + r*sp.cos(theta))*sp.cos(phi), (R + r*sp.cos(theta))*sp.sin(phi), r*sp.sin(theta)) \n",
    "\n",
    "def discourage_powers(expr):\n",
    "    POW = sp.Symbol('POW')\n",
    "    count = sp.count_ops(expr, visual=True)\n",
    "    count = count.replace(POW, 100)\n",
    "    count = count.replace(sp.Symbol, type(sp.S.One))\n",
    "    return count\n",
    "\n",
    "B0 = FunctionSpace(N, 'L', bc='UpperDirichletNeumann', domain=(0, 1))\n",
    "B1 = FunctionSpace(N, 'F', dtype='D', domain=(0, 2*np.pi))\n",
    "B2 = FunctionSpace(N, 'F', dtype='d', domain=(0, 2*np.pi))\n",
    "T = TensorProductSpace(comm, (B0, B1, B2), coordinates=(psi, rv, sp.Q.positive(r*sp.cos(theta)+R), (), discourage_powers))\n",
    "T.coors.sg"
   ]
  },
  {
   "cell_type": "markdown",
   "metadata": {},
   "source": [
    "We use Fourier basis functions for the two periodic directions, and a Legendre basis that satisfies the homogeneous boundary conditions for the radial direction.\n",
    "\n",
    "Note that `rv` represents the position vector $\\vec{r}=x\\mathbf{i} + y\\mathbf{j} + z\\mathbf{k}$ and that `T.hi` now contains the 3 scaling factors for the torus coordinates:\n",
    "\n",
    "\\begin{align*}\n",
    "h_r &= \\left|\\frac{\\partial \\vec{r}}{\\partial r}\\right| = 1\\\\\n",
    "h_{\\theta} &= \\left|\\frac{\\partial \\vec{r}}{\\partial \\theta}\\right| = r\\\\\n",
    "h_{\\phi} &= \\left|\\frac{\\partial \\vec{r}}{\\partial \\phi}\\right| = r\\cos \\theta + R\\\\\n",
    "\\end{align*}\n",
    "\n",
    "The covariant basis vectors used by shenfun are"
   ]
  },
  {
   "cell_type": "code",
   "execution_count": null,
   "metadata": {},
   "outputs": [],
   "source": [
    "T.coors.sg"
   ]
  },
  {
   "cell_type": "code",
   "execution_count": null,
   "metadata": {},
   "outputs": [],
   "source": [
    "Math(T.coors.latex_basis_vectors(covariant=True, symbol_names={r: 'r', theta: '\\\\theta', phi: '\\\\phi'}))"
   ]
  },
  {
   "cell_type": "markdown",
   "metadata": {},
   "source": [
    "Now check what the biharmonic operator looks like for the torus. Simplify equation using the integral measure $\\sqrt{g}$, found as `T.coors.sg`\n",
    "\n",
    "$$\n",
    "\\sqrt{g} = r (r \\cos \\theta + R)\n",
    "$$"
   ]
  },
  {
   "cell_type": "code",
   "execution_count": null,
   "metadata": {},
   "outputs": [],
   "source": [
    "u = TrialFunction(T)\n",
    "v = TestFunction(T)"
   ]
  },
  {
   "cell_type": "code",
   "execution_count": null,
   "metadata": {},
   "outputs": [],
   "source": [
    "du = div(grad(div(grad(u))))\n",
    "g = sp.Symbol('g', real=True, positive=True)\n",
    "replace = [(r*sp.cos(theta)+R, sp.sqrt(g)/r), (2*r*sp.cos(theta)+R, 2*sp.sqrt(g)/r-R)] # to simplify the look\n",
    "Math((du*T.coors.sg**4).tolatex(symbol_names={r: 'r', theta: '\\\\theta', phi: '\\\\phi'}, replace=replace))"
   ]
  },
  {
   "cell_type": "markdown",
   "metadata": {},
   "source": [
    "Glad you're not doing this by hand? \n",
    "\n",
    "To solve this equation we need to get a variational form that is separable. To get a variational form we multiply the equation by a weight $\\omega$ and the complex conjugate of a test function $\\overline{v}$, and integrate over the domain by switching to computational coordinates\n",
    "\n",
    "\\begin{align*}\n",
    "\\int_{\\Omega} \\nabla^4 u\\, \\overline{v} \\omega dV &= \\int_{\\Omega} f \\, \\overline{v} \\omega dV \\\\ \n",
    "\\int_{D} \\nabla^4 u \\, \\overline{v} \\omega \\sqrt{g} dr d\\theta d\\phi &= \\int_{D} f \\, \\overline{v} \\omega \\sqrt{g} dr d\\theta d\\phi\n",
    "\\end{align*}\n"
   ]
  },
  {
   "cell_type": "markdown",
   "metadata": {},
   "source": [
    "<div class=\"alert alert-warning\">\n",
    "    Note that the functions in the last equation now actually are transformed to computational space, i.e., $u=u(\\mathbf{x}(r, \\theta, \\phi))$ and the same for the rest. We should probably use a new name for the transformed functions, but we keep the same here to keep it simple. Whether the function is transformed or not should be evident from context. If the integral is in computational space, then the functions are transformed.\n",
    "</div>\n",
    "\n",
    "For Legendre and Fourier test functions the weight $\\omega$ is normally a constant. However, we see that the denominator in some terms above contains $g^2=r^4(r\\cos \\theta +R)^4$. The term in parenthesis $(r\\cos \\theta +R)$ makes the variational form above unseparable. If, on the other hand, we change the weight $\\omega$ to $g^{3/2}$, then the misbehaving denominator disappears and the variational form becomes separable. \n",
    "\n",
    "$$\n",
    "\\int_{D} \\nabla^4 u \\, \\overline{v} \\, g^2 dr d\\theta d\\phi = \\int_{D} f \\, \\overline{v} \\, g^2 dr d\\theta d\\phi\n",
    "$$\n",
    "\n",
    "Alternatively, we can aim at only removing the $(r\\cos \\theta +R)$ term from the denominator by using weight $(r\\cos \\theta +R)^3$\n",
    "\n",
    "$$\n",
    "\\int_{D} \\nabla^4 u \\, \\overline{v} \\, r (r\\cos \\theta +R)^4 dr d\\theta d\\phi = \\int_{D} f \\, \\overline{v} \\, r \\,(r\\cos \\theta + R)^4 dr d\\theta d\\phi.\n",
    "$$\n",
    "\n",
    "The first actually leads to a coefficient matrix of fewer bands than the second. However, the condition number is larger and round-off errors more severe. In the code below we use the first approach by default, but it can be easily changed with the commented out code. \n",
    "\n",
    "We verify the implementation by using a manufactured solution that satisfies the boundary conditions. Note that the Legendre basis `ShenBiPolar0Basis`, chosen using `bc='BiPolar0'` with the `Basis`, currently is the only function space in shenfun that can satisfy $u(r=1, \\theta, \\phi)=u'(r=1, \\theta, \\phi)=u'(0, \\theta, \\phi)=0$, where the latter is a pole condition inherited from [Shen's paper on cylindrical coordinates](https://epubs.siam.org/doi/abs/10.1137/S1064827595295301). With the current weights the pole condition is probably not needed."
   ]
  },
  {
   "cell_type": "code",
   "execution_count": null,
   "metadata": {},
   "outputs": [],
   "source": [
    "#ue = sp.sin(theta*2)*sp.cos(4*phi)*((1-r))**2 #+B0.sympy_basis(4, x=r)\n",
    "#ue = (1-sp.exp(-(1-r)**2))**2*sp.cos(4*phi)\n",
    "xx = r*sp.cos(theta); yy = r*sp.sin(theta)\n",
    "ue = ((1-r)*sp.exp(-(xx-0.4)**2-(yy-0.3)**2))**2*sp.cos(2*phi)\n",
    "f = div(grad(div(grad(u)))).tosympy(basis=ue, psi=psi)\n",
    "fj = Array(T, buffer=f*T.coors.sg**3)\n",
    "#fj = Array(T, buffer=f*T.hi[2]**3)\n",
    "f_hat = Function(T)\n",
    "f_hat = inner(v, fj, output_array=f_hat)\n",
    "#M = inner(v*T.hi[2]**3, div(grad(div(grad(u)))), level=2)\n",
    "#M = inner(v*T.coors.sg**3, div(grad(div(grad(u)))), level=2)\n",
    "M = inner(div(grad(v*T.coors.sg**3)), div(grad(u)), level=2)\n",
    "\n",
    "u_hat = Function(T)\n",
    "sol = la.SolverGeneric2ND(M)\n",
    "u_hat = sol(f_hat, u_hat)\n",
    "uj = u_hat.backward()\n",
    "uq = Array(T, buffer=ue)\n",
    "print('Error =', np.sqrt(inner(1, (uj-uq)**2)))"
   ]
  },
  {
   "cell_type": "markdown",
   "metadata": {},
   "source": [
    "Note that the variational form contains"
   ]
  },
  {
   "cell_type": "code",
   "execution_count": null,
   "metadata": {},
   "outputs": [],
   "source": [
    "T.coors.sg**3"
   ]
  },
  {
   "cell_type": "code",
   "execution_count": null,
   "metadata": {},
   "outputs": [],
   "source": [
    "for i in range(len(M)):\n",
    "    print(len(M[i].mats[0].keys()), len(M[i].mats[1].keys()), M[i].mats[0].measure, M[i].mats[1].measure, M[i].mats[0].__class__, M[i].mats[1].__class__)"
   ]
  },
  {
   "cell_type": "markdown",
   "metadata": {},
   "source": [
    "tensorproduct matrices, but some differ only in the scales. The solver `SolverGeneric2ND` loops over and solves for one Fourier coefficient in the $\\phi$-direction at the time, because all submatrices in the $\\phi$-direction are diagonal. The matrices in the $\\theta$-direction are not necessarily diagonal because of the weight $(r\\cos \\theta + 3)$. The sparsity pattern of the matrix can be inspected as follows"
   ]
  },
  {
   "cell_type": "code",
   "execution_count": null,
   "metadata": {},
   "outputs": [],
   "source": [
    "import matplotlib.pyplot as plt\n",
    "%matplotlib notebook\n",
    "B = sol.diags(4, 'csr')\n",
    "#print(np.linalg.cond(B.toarray()))\n",
    "plt.spy(B, markersize=0.1)\n",
    "plt.show()"
   ]
  },
  {
   "cell_type": "markdown",
   "metadata": {},
   "source": [
    "A baded matrix in deed, but quite a large number of bands.\n",
    "\n",
    "A slice of the solution can be visualized. Here we use $\\phi=0$, because that lies in the Cartesian $x-z$-plane."
   ]
  },
  {
   "cell_type": "code",
   "execution_count": null,
   "metadata": {},
   "outputs": [],
   "source": [
    "M[0].mats[0]"
   ]
  },
  {
   "cell_type": "code",
   "execution_count": null,
   "metadata": {},
   "outputs": [],
   "source": [
    "u_hat2 = u_hat.refine([N*3, N*3, N])\n",
    "ur = u_hat2.backward()\n",
    "us = ur.get((slice(None), slice(None), 0))\n",
    "xx, yy, zz = u_hat2.function_space().local_cartesian_mesh(uniform=True)\n",
    "\n",
    "# Wrap periodic plot around since it looks nicer\n",
    "xp = np.hstack([xx[:, :, 0], xx[:, 0, 0][:, None]])\n",
    "zp = np.hstack([zz[:, :, 0], zz[:, 0, 0][:, None]])\n",
    "up = np.hstack([us, us[:, 0][:, None]])\n",
    "\n",
    "# plot\n",
    "plt.figure()\n",
    "plt.contourf(xp, zp, up)\n",
    "plt.colorbar()\n"
   ]
  },
  {
   "cell_type": "markdown",
   "metadata": {},
   "source": [
    "Now print the solution at approximately half the radius"
   ]
  },
  {
   "cell_type": "code",
   "execution_count": null,
   "metadata": {},
   "outputs": [],
   "source": [
    "from mayavi import mlab\n",
    "u_hat3 = u_hat.refine([N, N*3, N*3])\n",
    "ux = u_hat3.backward()\n",
    "X = u_hat3.function_space().local_mesh(broadcast=True, uniform=True)\n",
    "print('radius =',X[0][N//2,0,0])"
   ]
  },
  {
   "cell_type": "markdown",
   "metadata": {},
   "source": [
    "Get the $\\theta-\\phi$ mesh for given radius"
   ]
  },
  {
   "cell_type": "code",
   "execution_count": null,
   "metadata": {},
   "outputs": [],
   "source": [
    "xj = []\n",
    "for rv in T.coors.coordinates[1]:\n",
    "    xj.append(sp.lambdify(psi, rv)(X[0][N//2], X[1][N//2], X[2][N//2]))\n",
    "xx, yy, zz = xj\n",
    "us = ux[N//2]"
   ]
  },
  {
   "cell_type": "markdown",
   "metadata": {},
   "source": [
    "Wrap around periodic direction to make it nicer"
   ]
  },
  {
   "cell_type": "code",
   "execution_count": null,
   "metadata": {},
   "outputs": [],
   "source": [
    "xx = np.hstack([xx, xx[:, 0][:, None]])\n",
    "yy = np.hstack([yy, yy[:, 0][:, None]])\n",
    "zz = np.hstack([zz, zz[:, 0][:, None]])\n",
    "us = np.hstack([us, us[:, 0][:, None]])\n",
    "xx = np.vstack([xx, xx[0]])\n",
    "yy = np.vstack([yy, yy[0]])\n",
    "zz = np.vstack([zz, zz[0]])\n",
    "us = np.vstack([us, us[0]])\n",
    "mlab.figure(bgcolor=(1, 1, 1))\n",
    "mlab.mesh(xx, yy, zz, scalars=us, colormap='jet')\n",
    "mlab.show()"
   ]
  },
  {
   "cell_type": "markdown",
   "metadata": {},
   "source": [
    "## Vector Laplacian\n",
    "\n",
    "Finally, we look at the vector Laplacian and verify the following\n",
    "\n",
    "$$\n",
    "\\nabla^2 \\vec{u} = \\nabla \\nabla \\cdot \\vec{u} - \\nabla \\times \\nabla \\times \\vec{u}\n",
    "$$\n",
    "\n",
    "The vector Laplace $\\nabla^2 \\vec{u}$ looks like: "
   ]
  },
  {
   "cell_type": "code",
   "execution_count": null,
   "metadata": {},
   "outputs": [],
   "source": [
    "V = VectorSpace(T)\n",
    "p = TrialFunction(V)\n",
    "du = div(grad(p))\n",
    "replace = [(r*sp.cos(theta)+R, sp.sqrt(g)/r), (2*r*sp.cos(theta)+R, 2*sp.sqrt(g)/r-R)] # to simplify the look\n",
    "Math(du.tolatex(symbol_names={r: 'r', theta: '\\\\theta', phi: '\\\\phi'}, replace=replace))"
   ]
  },
  {
   "cell_type": "markdown",
   "metadata": {},
   "source": [
    "And if we subtract $\\nabla \\nabla \\cdot \\vec{u} - \\nabla \\times \\nabla \\times \\vec{u}$ we should get the zero vector."
   ]
  },
  {
   "cell_type": "code",
   "execution_count": null,
   "metadata": {},
   "outputs": [],
   "source": [
    "dv = grad(div(p)) - curl(curl(p))\n",
    "dw = du-dv\n",
    "dw.simplify()\n",
    "Math(dw.tolatex(symbol_names={r: 'r', theta: '\\\\theta', phi: '\\\\phi'}))"
   ]
  }
 ],
 "metadata": {
  "kernelspec": {
   "display_name": "shenfun38",
   "language": "python",
   "name": "shenfun38"
  },
  "language_info": {
   "codemirror_mode": {
    "name": "ipython",
    "version": 3
   },
   "file_extension": ".py",
   "mimetype": "text/x-python",
   "name": "python",
   "nbconvert_exporter": "python",
   "pygments_lexer": "ipython3",
   "version": "3.8.6"
  },
  "toc": {
   "base_numbering": 1,
   "nav_menu": {},
   "number_sections": false,
   "sideBar": true,
   "skip_h1_title": false,
   "title_cell": "Table of Contents",
   "title_sidebar": "Contents",
   "toc_cell": false,
   "toc_position": {},
   "toc_section_display": true,
   "toc_window_display": false
  }
 },
 "nbformat": 4,
 "nbformat_minor": 4
}
